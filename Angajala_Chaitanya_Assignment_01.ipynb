{
  "cells": [
    {
      "cell_type": "markdown",
      "metadata": {
        "id": "view-in-github"
      },
      "source": [
        "<a href=\"https://colab.research.google.com/github/unt-iialab/INFO5731_Spring2020/blob/master/Assignments/INFO5731_Assignment_One.ipynb\" target=\"_parent\"><img src=\"https://colab.research.google.com/assets/colab-badge.svg\" alt=\"Open In Colab\"/></a>"
      ]
    },
    {
      "cell_type": "markdown",
      "metadata": {
        "id": "Ryk8D1Q4Wsrp"
      },
      "source": [
        "# **INFO5731 Assignment One**"
      ]
    },
    {
      "cell_type": "markdown",
      "source": [
        "This assignment includes range of programming tasks and data analysis exercises, aiming to enhance your Python skills and proficiency in string manipulation, numerical computations, and data science. Follow the instructions carefully and design well-structured Python programs to address each question.\n",
        "\n",
        "Late Submission will have a penalty of 10% reduction for each day after the deadline."
      ],
      "metadata": {
        "id": "qcP6re2g5A5r"
      }
    },
    {
      "cell_type": "markdown",
      "metadata": {
        "id": "JkzR8cFAyGik"
      },
      "source": [
        "# Question 1 (10 points).\n",
        "\n",
        "The formula that describes the volume V of a hemisphere with radius r is the following:\n",
        "\n",
        "$ V=\\frac{2}{3}\\ast\\ \\pi\\ast\\ r^3 $\n",
        "\n",
        "Write a program to calculate the value of V when r is in the range of even numbers from 1-20. Output the result in the following format:\n",
        "\n",
        "\tr\tV\n",
        "\t2\t…\n",
        "\t4\t…\n",
        "\t6\t…\n",
        "\t.\n",
        "\t.\n",
        "\t.\n",
        "\t20\t…\n"
      ]
    },
    {
      "cell_type": "code",
      "execution_count": 1,
      "metadata": {
        "id": "jDyTKYs-yGit",
        "colab": {
          "base_uri": "https://localhost:8080/"
        },
        "outputId": "e5df185e-f547-4ba4-bd1a-5a6eebd904f2"
      },
      "outputs": [
        {
          "output_type": "stream",
          "name": "stdout",
          "text": [
            "r    V\n",
            "2    16.755\n",
            "4    134.041\n",
            "6    452.389\n",
            "8    1072.330\n",
            "10    2094.395\n",
            "12    3619.115\n",
            "14    5747.020\n",
            "16    8578.642\n",
            "18    12214.512\n",
            "20    16755.161\n"
          ]
        }
      ],
      "source": [
        "import math\n",
        "def volume_of_hemisphere(r):\n",
        "    return (2 / 3) * math.pi * (r ** 3)\n",
        "print(\"r    V\")\n",
        "for r in range(2, 21, 2):\n",
        "    V = volume_of_hemisphere(r)\n",
        "    print(f\"{r}    {V:.3f}\")\n",
        "\n",
        "\n"
      ]
    },
    {
      "cell_type": "markdown",
      "metadata": {
        "id": "90_NR8c5XGWc"
      },
      "source": [
        "# Question 2 (20 points)\n",
        "\n",
        "(a) Write a Python program to generate a sequence of 12 random numbers falling within the range of 50 to 150.\n",
        "\n",
        "(b) Arrange the generated numbers in ascending order. Display the sorted list.\n",
        "\n",
        "(c) Extend the program to arrange the numbers in descending order as well. Present the sorted list accordingly.\n",
        "\n",
        "(d) Compute and output the average of the entire group of generated numbers.\n",
        "\n",
        "(e) Enhance the program to calculate and display the average of the first 6 numbers from both the ascending and descending sorted lists."
      ]
    },
    {
      "cell_type": "code",
      "execution_count": 2,
      "metadata": {
        "id": "5QX6bJjGWXY9",
        "colab": {
          "base_uri": "https://localhost:8080/"
        },
        "outputId": "37f015b0-8c2d-44db-db9e-5aac7f34e9ae"
      },
      "outputs": [
        {
          "output_type": "stream",
          "name": "stdout",
          "text": [
            "Generated numbers: [80, 89, 98, 96, 62, 74, 102, 134, 137, 75, 115, 126]\n",
            "Ascending order: [62, 74, 75, 80, 89, 96, 98, 102, 115, 126, 134, 137]\n",
            "Descending order: [62, 74, 75, 80, 89, 96, 98, 102, 115, 126, 134, 137]\n",
            "Average of all numbers: 99.00\n",
            "Average of first 6 numbers (ascending): 79.33\n",
            "Average of first 6 numbers (descending): 79.33\n"
          ]
        }
      ],
      "source": [
        "import random\n",
        "random_numbers = [random.randint(50, 150) for _ in range(12)]\n",
        "ascending_sorted = sorted(random_numbers)\n",
        "descending_sorted = sorted(random_numbers)\n",
        "average_all = sum(random_numbers) / len(random_numbers)\n",
        "average_first_6_asc = sum(ascending_sorted[:6]) / 6\n",
        "average_first_6_desc = sum(descending_sorted[:6]) / 6\n",
        "print(\"Generated numbers:\", random_numbers)\n",
        "print(\"Ascending order:\", ascending_sorted)\n",
        "print(\"Descending order:\", descending_sorted)\n",
        "print(f\"Average of all numbers: {average_all:.2f}\")\n",
        "print(f\"Average of first 6 numbers (ascending): {average_first_6_asc:.2f}\")\n",
        "print(f\"Average of first 6 numbers (descending): {average_first_6_desc:.2f}\")\n",
        "\n"
      ]
    },
    {
      "cell_type": "markdown",
      "metadata": {
        "id": "1F_PZdH9Sh49"
      },
      "source": [
        "# Question 3 (20 points).\n",
        "\n",
        "Create a Python program that encompasses various string manipulation task:\n",
        "\n",
        "(a) Prompt the user to input two sentences.\n",
        "\n",
        "(b) Transform each sentence into a list, where each element corresponds to a word in the sentence. For example, if the sentences are \"Hello, how are you doing today?\" and \"This is an example sentence for the program!\"\n",
        "\n",
        "The program should output:\n",
        "['Hello', ',', 'how', 'are', 'you', 'doing', 'today', '?', 'This', 'is', 'an', 'example', 'sentence', 'for', 'the', 'program', '!']\n",
        "\n",
        "(c) Compare the two sentences. Print out a list of words that occur in both sentences.\n",
        "\n",
        "(d) Remove any punctuation from the sentence and print the sanitized sentences. It should remove at least the following characters, but it can remove more: period(“.”), comma (“,”), semicolon (“;”), and colon (“:”).\n",
        "\n",
        "(e) Count the number of vowels in each of the sentences. Print out each vowel and the occurrences  in the each of the two sentences separately, such as:\n",
        "\n",
        "Sentence1: a:2, e:2, i:0, etc.\n",
        "Sentence2: a:1, e:2, i:2, etc.\n",
        "\n",
        "Design a well-structured Python program to execute these tasks efficiently."
      ]
    },
    {
      "cell_type": "code",
      "execution_count": 3,
      "metadata": {
        "id": "Y0oOSlsOS0cq",
        "colab": {
          "base_uri": "https://localhost:8080/"
        },
        "outputId": "c155fce9-3197-41ca-93da-0b1f0e1c49cb"
      },
      "outputs": [
        {
          "output_type": "stream",
          "name": "stdout",
          "text": [
            "Enter the first sentence: a,e,i,o,u\n",
            "Enter the second sentence: a:1, e:2, i:2\n",
            "Combined list of words: ['a,e,i,o,u', 'a:1,', 'e:2,', 'i:2']\n",
            "Common words in both sentences: []\n",
            "Sanitized Sentence 1: aeiou\n",
            "Sanitized Sentence 2: a1 e2 i2\n",
            "Vowel counts for Sentence 1: {'a': 1, 'e': 1, 'i': 1, 'o': 1, 'u': 1}\n",
            "Vowel counts for Sentence 2: {'a': 1, 'e': 1, 'i': 1, 'o': 0, 'u': 0}\n"
          ]
        }
      ],
      "source": [
        "import string\n",
        "def count_vowels(sentence):\n",
        "    vowels = 'aeiou'\n",
        "    vowel_count = {v: sentence.lower().count(v) for v in vowels}\n",
        "    return vowel_count\n",
        "def remove_punctuation(sentence):\n",
        "    return sentence.translate(str.maketrans('', '', string.punctuation))\n",
        "sentence1 = input(\"Enter the first sentence: \")\n",
        "sentence2 = input(\"Enter the second sentence: \")\n",
        "sentence1_words = sentence1.split()\n",
        "sentence2_words = sentence2.split()\n",
        "combined_list = sentence1_words + sentence2_words\n",
        "print(\"Combined list of words:\", combined_list)\n",
        "common_words = list(set(sentence1_words) & set(sentence2_words))\n",
        "print(\"Common words in both sentences:\", common_words)\n",
        "sentence1_clean = remove_punctuation(sentence1)\n",
        "sentence2_clean = remove_punctuation(sentence2)\n",
        "print(\"Sanitized Sentence 1:\", sentence1_clean)\n",
        "print(\"Sanitized Sentence 2:\", sentence2_clean)\n",
        "vowel_count_sentence1 = count_vowels(sentence1_clean)\n",
        "vowel_count_sentence2 = count_vowels(sentence2_clean)\n",
        "print(\"Vowel counts for Sentence 1:\", vowel_count_sentence1)\n",
        "print(\"Vowel counts for Sentence 2:\", vowel_count_sentence2)\n",
        "\n"
      ]
    },
    {
      "cell_type": "markdown",
      "source": [
        "# Question 4 (20 Points)"
      ],
      "metadata": {
        "id": "OP4-5qxAtInv"
      }
    },
    {
      "cell_type": "markdown",
      "source": [
        "Design and implement a simple command-line calculator program. The program should handle both integers and floating-point numbers.\n",
        "\n",
        "(a) Write program that takes a mathematical expression as input and evaluates it. The program should support addition, subtraction, multiplication, and division.\n",
        "\n",
        "(b) Extend the calculator to handle parentheses in mathematical expressions. Implement the necessary logic to evaluate expressions with nested parentheses.\n",
        "\n",
        "(c) Enhance your calculator to include additional mathematical operations such as exponentiation, square root, and modulus.\n",
        "\n",
        "(d) Implement error handling in the calculator program. Handle cases such as division by zero and invalid input expressions. Provide meaningful error messages.\n",
        "\n",
        "(e) Implement a command to exit the calculator."
      ],
      "metadata": {
        "id": "uzN4_hDptK9U"
      }
    },
    {
      "cell_type": "code",
      "source": [
        "import math\n",
        "\n",
        "def evaluate_expression(expression):\n",
        "    try:\n",
        "        result = eval(expression, {\"__builtins__\": None}, {\"sqrt\": math.sqrt, \"pow\": math.pow})\n",
        "        return result\n",
        "    except ZeroDivisionError:\n",
        "        return \"Error: Division by zero is not allowed.\"\n",
        "    except (SyntaxError, NameError):\n",
        "        return \"Error: Invalid input expression.\"\n",
        "    except Exception as e:\n",
        "        return f\"Error: {e}\"\n",
        "\n",
        "def calculator():\n",
        "    print(\"Welcome to the Command-Line Calculator!\")\n",
        "    print(\"Supported operations: +, -, *, /, ** (exponentiation), sqrt (square root), % (modulus)\")\n",
        "    print(\"Type 'exit' to quit the calculator.\\n\")\n",
        "\n",
        "    while True:\n",
        "        expression = input(\"Enter a mathematical expression: \")\n",
        "        if expression.lower() == 'exit':\n",
        "            print(\"Exiting the calculator. Goodbye!\")\n",
        "            break\n",
        "        result = evaluate_expression(expression)\n",
        "        print(f\"Result: {result}\\n\")\n",
        "calculator()\n"
      ],
      "metadata": {
        "id": "8nQnVxjJuYtu",
        "colab": {
          "base_uri": "https://localhost:8080/"
        },
        "outputId": "fb124039-33fc-43aa-930f-b8466f878688"
      },
      "execution_count": 4,
      "outputs": [
        {
          "output_type": "stream",
          "name": "stdout",
          "text": [
            "Welcome to the Command-Line Calculator!\n",
            "Supported operations: +, -, *, /, ** (exponentiation), sqrt (square root), % (modulus)\n",
            "Type 'exit' to quit the calculator.\n",
            "\n",
            "Enter a mathematical expression: 2+7\n",
            "Result: 9\n",
            "\n",
            "Enter a mathematical expression: 9-10\n",
            "Result: -1\n",
            "\n",
            "Enter a mathematical expression: -1+4\n",
            "Result: 3\n",
            "\n",
            "Enter a mathematical expression: 3**\n",
            "Result: Error: Invalid input expression.\n",
            "\n",
            "Enter a mathematical expression: 3*8\n",
            "Result: 24\n",
            "\n",
            "Enter a mathematical expression: exit\n",
            "Exiting the calculator. Goodbye!\n"
          ]
        }
      ]
    },
    {
      "cell_type": "markdown",
      "metadata": {
        "id": "z3tBE7E-Xn5X"
      },
      "source": [
        "# Question 5 (30 points).\n",
        "\n",
        "In the field of Data Science, data is often formatted as a comma-delimited (CSV) file, where each line in a file corresponds to a field's value. Refer to Chapter 9 (p. 106) for more information on comma-delimited files.\n",
        "\n",
        "To answer this question, you will need to download the file [Assignment1_denton_housing.csv](https://raw.githubusercontent.com/unt-iialab/info5731-spring2022/main/assignments/Assignment1_denton_housing.csv) included with this assignment. The file contains statistics about housing in the city of Denton from 2008 to 2014. Write a program to implement the following questions.\n",
        "\n",
        "(a) (5 pts) Calculate the difference in the number of Occupied Housing Units from year to year and print it. The difference must be calculated for the consecutive years such as 2008-2009, 2009-2010 etc. Finally, print the values in the ascending order.\n",
        "\n",
        "(b) (5 pts) For all the years, calculate the percentage of housing units which are vacant an occupied. Print the results in the following format:\n",
        "\n",
        "Year Vacant Housing Units Occupied Housing Units\n",
        "\n",
        "    2008  30%   70%                          \n",
        "\t2009 ----- -----\n",
        "\t2010 ----- -----\n",
        "    2011 ----- -----\n",
        "\t2012 ----- -----\n",
        "    2013 ----- -----\n",
        "\t2014 ----- -----\n",
        "  \n",
        "  \n",
        "\n",
        "(c) (10 pts) Calculate and print the valued and years in which the highest number of housing units were vacant and occupied. Print the results in the following format:  \n",
        "\n",
        "                              Year\tValue\n",
        "\tVacant Housing Units\t  -----   -----\n",
        "\tOccupied Housing Units\t-----   -----\n",
        "\n",
        "(d) (10 pts) Calculate the harmonic mean of the total housing units and print it out. You can find the information about harmonic mean here: https://ncalculators.com/statistics/harmonic-mean-calculator.htm"
      ]
    },
    {
      "cell_type": "code",
      "execution_count": 8,
      "metadata": {
        "id": "lqGYuHBhcsRH",
        "colab": {
          "base_uri": "https://localhost:8080/"
        },
        "outputId": "87a117d9-80ad-404d-f225-3e2f808db00f"
      },
      "outputs": [
        {
          "output_type": "stream",
          "name": "stdout",
          "text": [
            "(a) Difference in Occupied Housing Units:\n",
            "2008-2009: -795\n",
            "2010-2011: -303\n",
            "2011-2012: 1404\n",
            "2012-2013: 1565\n",
            "2013-2014: 2622\n",
            "2009-2010: 5091\n",
            "\n",
            "(b) Percentage of Vacant and Occupied Housing Units:\n",
            "Year   Vacant (%)   Occupied (%)\n",
            "2009   9.07%   90.93%\n",
            "2010   8.14%   91.86%\n",
            "\n",
            "(c) Year and value of highest Vacant and Occupied Housing Units:\n",
            "Vacant Housing Units      2010   3635\n",
            "Occupied Housing Units    2010   41007\n",
            "\n",
            "(d) Harmonic Mean of Total Housing Units: 41913.32\n"
          ]
        }
      ],
      "source": [
        "import csv\n",
        "from collections import defaultdict\n",
        "data = defaultdict(lambda: {\"Total Housing Units\": 0, \"Vacant Housing Units\": 0, \"Occupied Housing Units\": 0})\n",
        "\n",
        "csv_data = \"\"\"year,title_field,value\n",
        "2014,Total Housing Units,49109\n",
        "2014,Vacant Housing Units,2814\n",
        "2014,Occupied Housing Units,46295\n",
        "2013,Total Housing Units,47888\n",
        "2013,Vacant Housing Units,4215\n",
        "2013,Occupied Housing Units,43673\n",
        "2012,Total Housing Units,45121\n",
        "2012,Vacant Housing Units,3013\n",
        "2012,Occupied Housing Units,42108\n",
        "2011,Total Housing Units,44917\n",
        "2011,Vacant Housing Units,4213\n",
        "2011,Occupied Housing Units,40704\n",
        "2010,Total Housing Units,44642\n",
        "2010,Vacant Housing Units,3635\n",
        "2010,Occupied Housing Units,41007\n",
        "2009,Total Housing Units,39499\n",
        "2009,Vacant Housing Units,3583\n",
        "2009,Occupied Housing Units,35916\n",
        "2008,Total Housing Units,41194\n",
        "2008,Vacant Housing Units,4483\n",
        "2008,Occupied Housing Units,36711\n",
        "\"\"\"\n",
        "\n",
        "lines = csv_data.strip().split(\"\\n\")\n",
        "reader = csv.DictReader(lines)\n",
        "\n",
        "for row in reader:\n",
        "    year = int(row['year'])\n",
        "    data[year][row['title_field']] = int(row['value'])\n",
        "occupied_diff = {}\n",
        "years = sorted(data.keys())\n",
        "for i in range(1, len(years)):\n",
        "    prev_year = years[i - 1]\n",
        "    current_year = years[i]\n",
        "    occupied_diff[(prev_year, current_year)] = data[current_year]['Occupied Housing Units'] - data[prev_year]['Occupied Housing Units']\n",
        "\n",
        "sorted_occupied_diff = sorted(occupied_diff.items(), key=lambda x: x[1])\n",
        "print(\"(a) Difference in Occupied Housing Units:\")\n",
        "for years, diff in sorted_occupied_diff:\n",
        "    print(f\"{years[0]}-{years[1]}: {diff}\")\n",
        "print(\"\\n(b) Percentage of Vacant and Occupied Housing Units:\")\n",
        "print(\"Year   Vacant (%)   Occupied (%)\")\n",
        "for year in years:\n",
        "    total_units = data[year]['Total Housing Units']\n",
        "    vacant_units = data[year]['Vacant Housing Units']\n",
        "    occupied_units = data[year]['Occupied Housing Units']\n",
        "\n",
        "    vacant_percentage = (vacant_units / total_units) * 100\n",
        "    occupied_percentage = (occupied_units / total_units) * 100\n",
        "\n",
        "    print(f\"{year}   {vacant_percentage:.2f}%   {occupied_percentage:.2f}%\")\n",
        "max_vacant_year = max(years, key=lambda y: data[y]['Vacant Housing Units'])\n",
        "max_occupied_year = max(years, key=lambda y: data[y]['Occupied Housing Units'])\n",
        "\n",
        "print(\"\\n(c) Year and value of highest Vacant and Occupied Housing Units:\")\n",
        "print(f\"Vacant Housing Units      {max_vacant_year}   {data[max_vacant_year]['Vacant Housing Units']}\")\n",
        "print(f\"Occupied Housing Units    {max_occupied_year}   {data[max_occupied_year]['Occupied Housing Units']}\")\n",
        "def harmonic_mean(values):\n",
        "    return len(values) / sum(1 / v for v in values)\n",
        "\n",
        "total_units = [data[year]['Total Housing Units'] for year in years]\n",
        "harmonic_mean_total_units = harmonic_mean(total_units)\n",
        "\n",
        "print(f\"\\n(d) Harmonic Mean of Total Housing Units: {harmonic_mean_total_units:.2f}\")\n",
        "\n",
        "\n",
        "\n"
      ]
    },
    {
      "cell_type": "markdown",
      "source": [
        "# Mandatory Question\n",
        "\n",
        "Provide your thoughts on the assignment. What did you find challenging, and what aspects did you enjoy? Your opinion on the provided time to complete the assignment. Share any suggestions for improvement. Your feedback will be valuable for enhancing the learning experience."
      ],
      "metadata": {
        "id": "q8BFCvWp32cf"
      }
    },
    {
      "cell_type": "code",
      "source": [
        "# Write your response below"
      ],
      "metadata": {
        "id": "_e557s2w4BpK"
      },
      "execution_count": null,
      "outputs": []
    }
  ],
  "metadata": {
    "colab": {
      "provenance": []
    },
    "kernelspec": {
      "display_name": "Python 3 (ipykernel)",
      "language": "python",
      "name": "python3"
    },
    "language_info": {
      "codemirror_mode": {
        "name": "ipython",
        "version": 3
      },
      "file_extension": ".py",
      "mimetype": "text/x-python",
      "name": "python",
      "nbconvert_exporter": "python",
      "pygments_lexer": "ipython3",
      "version": "3.9.12"
    }
  },
  "nbformat": 4,
  "nbformat_minor": 0
}